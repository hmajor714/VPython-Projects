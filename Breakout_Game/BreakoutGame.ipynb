{
 "cells": [
  {
   "cell_type": "code",
   "execution_count": 1,
   "metadata": {
    "scrolled": false
   },
   "outputs": [
    {
     "data": {
      "text/html": [
       "<div id=\"glowscript\" class=\"glowscript\"></div>"
      ],
      "text/plain": [
       "<IPython.core.display.HTML object>"
      ]
     },
     "metadata": {},
     "output_type": "display_data"
    },
    {
     "data": {
      "application/javascript": [
       "if (typeof Jupyter !== \"undefined\") { window.__context = { glowscript_container: $(\"#glowscript\").removeAttr(\"id\")};}else{ element.textContent = ' ';}"
      ],
      "text/plain": [
       "<IPython.core.display.Javascript object>"
      ]
     },
     "metadata": {},
     "output_type": "display_data"
    },
    {
     "data": {
      "text/html": [
       "<div id=\"glowscript\" class=\"glowscript\"></div>"
      ],
      "text/plain": [
       "<IPython.core.display.HTML object>"
      ]
     },
     "metadata": {},
     "output_type": "display_data"
    },
    {
     "data": {
      "application/javascript": [
       "if (typeof Jupyter !== \"undefined\") { window.__context = { glowscript_container: $(\"#glowscript\").removeAttr(\"id\")};}else{ element.textContent = ' ';}"
      ],
      "text/plain": [
       "<IPython.core.display.Javascript object>"
      ]
     },
     "metadata": {},
     "output_type": "display_data"
    },
    {
     "data": {
      "application/javascript": [
       "if (typeof Jupyter !== \"undefined\") {require.undef(\"nbextensions/vpython_libraries/glow.min\");}else{element.textContent = ' ';}"
      ],
      "text/plain": [
       "<IPython.core.display.Javascript object>"
      ]
     },
     "metadata": {},
     "output_type": "display_data"
    },
    {
     "data": {
      "application/javascript": [
       "if (typeof Jupyter !== \"undefined\") {require.undef(\"nbextensions/vpython_libraries/glowcomm\");}else{element.textContent = ' ';}"
      ],
      "text/plain": [
       "<IPython.core.display.Javascript object>"
      ]
     },
     "metadata": {},
     "output_type": "display_data"
    },
    {
     "data": {
      "application/javascript": [
       "if (typeof Jupyter !== \"undefined\") {require.undef(\"nbextensions/vpython_libraries/jquery-ui.custom.min\");}else{element.textContent = ' ';}"
      ],
      "text/plain": [
       "<IPython.core.display.Javascript object>"
      ]
     },
     "metadata": {},
     "output_type": "display_data"
    },
    {
     "data": {
      "application/javascript": [
       "if (typeof Jupyter !== \"undefined\") {require([\"nbextensions/vpython_libraries/glow.min\"], function(){console.log(\"GLOW LOADED\");});}else{element.textContent = ' ';}"
      ],
      "text/plain": [
       "<IPython.core.display.Javascript object>"
      ]
     },
     "metadata": {},
     "output_type": "display_data"
    },
    {
     "data": {
      "application/javascript": [
       "if (typeof Jupyter !== \"undefined\") {require([\"nbextensions/vpython_libraries/glowcomm\"], function(){console.log(\"GLOWCOMM LOADED\");});}else{element.textContent = ' ';}"
      ],
      "text/plain": [
       "<IPython.core.display.Javascript object>"
      ]
     },
     "metadata": {},
     "output_type": "display_data"
    },
    {
     "data": {
      "application/javascript": [
       "if (typeof Jupyter !== \"undefined\") {require([\"nbextensions/vpython_libraries/jquery-ui.custom.min\"], function(){console.log(\"JQUERY LOADED\");});}else{element.textContent = ' ';}"
      ],
      "text/plain": [
       "<IPython.core.display.Javascript object>"
      ]
     },
     "metadata": {},
     "output_type": "display_data"
    }
   ],
   "source": [
    "from vpython import *\n",
    "import random\n",
    "\n",
    "#create the scene\n",
    "scene2 = canvas(title='Breakout Game', width=800, height=600)\n",
    "\n",
    "#these constants copied from the particles assignment\n",
    "R = 0.5e-10\n",
    "L = 28\n",
    "thick = L/50\n",
    "\n",
    "#constant for initial speed \n",
    "s = 2400 \n",
    "\n",
    "#copied from particles assignment\n",
    "Lwall = box(pos = vec(-L/2, 0, 0), size = vec(thick, L, thick), color=color.white)\n",
    "Rwall = box(pos = vec(L/2, 0, 0), size = vec(thick, L, thick), color=color.white)\n",
    "Bwall = box(pos = vec(0, -L/2, 0), size = vec(L, thick, thick), color=color.white)\n",
    "Twall = box(pos = vec(0, L/2, 0), size = vec(L, thick, thick), color=color.white)\n",
    "\n",
    "#creating my list of Bricks\n",
    "Bricks = []\n",
    "\n",
    "#Creating a color array\n",
    "Colors = [color.red, color.green, color.blue, color.purple]\n",
    "\n",
    "#Variables used to put everying in correct place\n",
    "x=-12\n",
    "y=13\n",
    "\n",
    "#My Brick class\n",
    "class Brick():\n",
    "    #initilization\n",
    "    def __init__(self, x, y):\n",
    "        self.b=box(pos=vec(x,y,0),\n",
    "            #semi-random color\n",
    "            color=Colors[random.randint(0,3)],\n",
    "            size=vec(1.75, thick, thick))\n",
    "    #is it still visiable\n",
    "    broken=False\n",
    "    #Checking if ball has collision with brick\n",
    "    def collision(self, p):\n",
    "        #this if statment was trial and error\n",
    "        if(p.pos.x >= self.b.pos.x - 1) and (p.pos.x <= self.b.pos.x + 1) and (p.pos.y <= self.b.pos.y + .4 and p.pos.y >= self.b.pos.y - .4):\n",
    "            #Teleport the block of screen and don't change the window size to be able to see it\n",
    "            self.b.pos = vec(-999, -999, 0)\n",
    "            self.b.visible = False\n",
    "            return True\n",
    "#This process was guess and check, only 1 loop which is nice\n",
    "for i in range(52):\n",
    "    Bricks.append(Brick(x, y))\n",
    "    x+=2\n",
    "    if(x==14):\n",
    "        y-=1\n",
    "        x=-12\n",
    "\n",
    "#Make the ball\n",
    "ball = sphere(pos=vec(0,-10,0), radius=0.5, color=color.cyan)\n",
    "\n",
    "#Give ball a normal upwards velocity\n",
    "ball.v = s*hat(vec(15,31,0))\n",
    "\n",
    "#Make game pad\n",
    "pad = box(pos=vector(0,-11,0), color=color.white, size=vec(4,.5,.01))\n",
    "\n",
    "#Check to see if user is still playing\n",
    "gameOver=False\n",
    "\n",
    "#Time variables\n",
    "t = 0\n",
    "dt = 1e-5\n",
    "\n",
    "#Start of game\n",
    "scene.pause(\"Click to Start\")\n",
    "while(gameOver==False):\n",
    "    rate(750)\n",
    "    \n",
    "    #lose game if ball hits the floor\n",
    "    if ball.pos.y < -L/2:\n",
    "        gameOver=True\n",
    "        \n",
    "    #Game is over if all blocks break\n",
    "    if all([Brick.broken for Brick in Bricks]):\n",
    "        gameOver=True\n",
    "        \n",
    "    #Update ball position\n",
    "    ball.pos = ball.pos + ball.v*dt\n",
    "    \n",
    "    # Track the mouse so the pad can follow\n",
    "    if scene.mouse.pos.x > -12 and scene.mouse.pos.x < 12:\n",
    "        pad.pos.x = scene.mouse.pos.x\n",
    "    elif scene.mouse.pos.x < -12:\n",
    "        pad.pos.x = -11.5\n",
    "    elif scene.mouse.pos.x > 12:\n",
    "        pad.pos.x = 11.5\n",
    "    \n",
    "    #Check if we need to reflect from the walls or ceiling\n",
    "    if(abs(ball.pos.x) > L/2):\n",
    "        ball.v.x = -ball.v.x\n",
    "    if ball.pos.y > L/2:\n",
    "        ball.v.y = -ball.v.y\n",
    "        \n",
    "    #Reflect from the block and get rid of it\n",
    "    for Brick in Bricks:\n",
    "        if Brick.collision(ball) == True:\n",
    "                ball.v.y = -ball.v.y #reflect in y-direction\n",
    "                Brick.broken = True\n",
    "\n",
    "    #Reflect from platform\n",
    "    if (ball.pos.x >= pad.pos.x - 3 and ball.pos.x <= pad.pos.x + 3) and (ball.pos.y <= pad.pos.y + .2 and ball.pos.y >= pad.pos.y - .2):\n",
    "        ball.v.y = -ball.v.y\n",
    "\n",
    "    #Increment the time\n",
    "    t = t + dt\n",
    "        \n",
    "        "
   ]
  },
  {
   "cell_type": "code",
   "execution_count": null,
   "metadata": {},
   "outputs": [],
   "source": []
  }
 ],
 "metadata": {
  "kernelspec": {
   "display_name": "Python 3",
   "language": "python",
   "name": "python3"
  },
  "language_info": {
   "codemirror_mode": {
    "name": "ipython",
    "version": 3
   },
   "file_extension": ".py",
   "mimetype": "text/x-python",
   "name": "python",
   "nbconvert_exporter": "python",
   "pygments_lexer": "ipython3",
   "version": "3.8.5"
  }
 },
 "nbformat": 4,
 "nbformat_minor": 4
}
