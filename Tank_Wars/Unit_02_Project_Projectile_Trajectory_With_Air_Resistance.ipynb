{
 "cells": [
  {
   "cell_type": "markdown",
   "metadata": {},
   "source": [
    "# Unit 02 Project: Projectile Trajectory with Air Resistance"
   ]
  },
  {
   "cell_type": "markdown",
   "metadata": {},
   "source": [
    "### Purpose"
   ]
  },
  {
   "cell_type": "markdown",
   "metadata": {},
   "source": [
    "For my third physics project this semester, I decided to model a projectile trajectory with air resistance in the form of a playable tank game. I will use realistic physics models such as an RK4 ODE solver to determine the trajectory of the tank's bullet in each time step. The player of the game will have to adjust the speed and angle of the bullet, taking into account the air resistance, in order to hit the other cannon."
   ]
  },
  {
   "cell_type": "markdown",
   "metadata": {},
   "source": [
    "### Theoretical Model"
   ]
  },
  {
   "attachments": {
    "RK4.png": {
     "image/png": "[encoded data removed]"
    }
   },
   "cell_type": "markdown",
   "metadata": {},
   "source": [
    "The theoretical model I am using is RK4. <br>\n",
    "RK4 is an iterative method including the Euler Method routine. <br>\n",
    "We learned about the Euler Method in class, and also Rk4 which is essentially a more accurate version. <br> \n",
    "The RK4 iterative method follows this formula... <br>\n",
    "![RK4.png](attachment:RK4.png) <br>\n",
    "The formula is pretty complex, so to fully understand it if you have never heard of it, and are interested, I recommend reading about it here: https://lpsa.swarthmore.edu/NumInt/NumIntFourth.html <br>\n",
    "Some assumptions I made were, that this model was taking place on Earth with a natural gravity of 9.8m/s. <br>\n",
    "The bullet is actually a round cylinder. <br>\n",
    "Air resistance doesn't affect in a model in the Z-direction. <br>\n",
    "Collision causes the ball to lose all momentum, i.e no bouncing physics. <br>"
   ]
  },
  {
   "cell_type": "markdown",
   "metadata": {},
   "source": [
    "### The Code"
   ]
  },
  {
   "cell_type": "code",
   "execution_count": null,
   "metadata": {},
   "outputs": [],
   "source": [
    "from vpython import *\n",
    "import ode\n",
    "import numpy as np\n",
    "from random import uniform"
   ]
  },
  {
   "cell_type": "code",
   "execution_count": null,
   "metadata": {},
   "outputs": [],
   "source": [
    "#NOTE: All units are using the metric systems, primarily m/s\n",
    "\n",
    "# Converts an ang in degrees radians        \n",
    "def rad(degrees):\n",
    "    radians=degrees*np.pi/180\n",
    "    return radians\n",
    "\n",
    "# Function for any 'keydown' event.\n",
    "# Used to update power and angle, also to fire a shot.\n",
    "def KD(event):\n",
    "    global theta, mspeed, projectials, ang\n",
    "    # Angle up\n",
    "    if event.key=='w':\n",
    "        theta=theta+dtheta\n",
    "        if theta>rad(90):\n",
    "            theta=rad(90)\n",
    "            ang-=1\n",
    "        turret1.axis=L*vector(cos(theta),sin(theta),0)\n",
    "        adj_angle.axis=(5*theta)*vector(1,0,0)\n",
    "        ang+=1\n",
    "        label(pos=vec(-23,18.5,0), text=ang, box=False)\n",
    "    # Power down\n",
    "    if event.key=='a':\n",
    "        mspeed=mspeed-dspeed\n",
    "        if mspeed<1:\n",
    "            mspeed=1\n",
    "        adj_speed.axis=(mspeed/2+0.5)*vector(0.125,0,0)\n",
    "        label(pos=vec(28,18.5,0), text=mspeed, box=False)\n",
    "    # Power up\n",
    "    if event.key=='d':\n",
    "        mspeed=mspeed+dspeed\n",
    "        if mspeed>160:\n",
    "            mspeed=160\n",
    "        adj_speed.axis=(mspeed/2+0.5)*vector(0.125,0,0)\n",
    "        label(pos=vec(28,18.5,0), text=mspeed, box=False)\n",
    "    # Angle down\n",
    "    if event.key=='s':\n",
    "        theta=theta-dtheta\n",
    "        if theta<0:\n",
    "            theta=0\n",
    "            ang+=1\n",
    "        turret1.axis=L*vector(cos(theta),sin(theta),0)\n",
    "        adj_angle.axis=(5*theta)*vector(1,0,0)\n",
    "        ang-=1\n",
    "        label(pos=vec(-23,18.5,0), text=ang, box=False)\n",
    "    # Fire tank\n",
    "    if event.key=='f':\n",
    "        bullet=sphere(pos=turret1.pos+turret1.axis, radius=0.5, color=color.white, make_trail=True)\n",
    "        bullet.v=mspeed*vector(cos(theta),sin(theta),0)\n",
    "        bullets.append(bullet)\n",
    "\n",
    "# Function to check if the bullet made a collision\n",
    "def collision(sphere, box):\n",
    "    if((sphere.pos.x-sphere.radius<box.pos.x+box.length/2 and sphere.pos.x+sphere.radius>box.pos.x-box.length/2) and (sphere.pos.y-sphere.radius<box.pos.y+box.height/2 and sphere.pos.y+sphere.radius>box.pos.y-box.height/2)):\n",
    "        result=True\n",
    "    else:\n",
    "        result=False\n",
    "    return result\n",
    "\n",
    "# Function to store the position and velocity of the bullet\n",
    "def differential(d, tn):\n",
    "    global Fnet, air_resistance\n",
    "    speed = mag(vec(d[3], d[4], d[5]))\n",
    "    rates=np.zeros(6)\n",
    "    rates[0] = d[3]\n",
    "    rates[1] = d[4]\n",
    "    rates[2] = d[5]\n",
    "    rates[3] = (Fnet.x-air_resistance*speed*d[3])/m\n",
    "    rates[4] = (Fnet.y-air_resistance*speed*d[4])/m\n",
    "    rates[5] = (Fnet.z-air_resistance*speed*d[5])/m\n",
    "    return rates\n",
    "\n",
    "         \n",
    "# Setup scene\n",
    "scene=canvas(title=\"<h1>Tank Wars</h1>\")\n",
    "scene.range=20\n",
    "scene.width=600\n",
    "scene.height=400\n",
    "scene.bind('keydown', KD)\n",
    "scene.userzoom=False\n",
    "scene.append_to_title(\"<h2>Instructions</h2>\")\n",
    "scene.append_to_title(\"<p>1. Use the 'w' key arrow to increase or the 's' key to decrease the angle of the tank.</p>\")\n",
    "scene.append_to_title(\"<p>2. Use the 'a' key arrow to increase or the 'd' key to decrease the power of the tank.</p>\")\n",
    "scene.append_to_title(\"<p>3. Use the 'f' key to fire the tank.</p>\")\n",
    "scene.append_to_title(\"<p>4. Try to hit the other tank, but watch out for the wall and air resistance!</p>\")\n",
    "\n",
    "\n",
    "# Create enviroment\n",
    "ground = box(pos=vector(0,-15,0), size=vector(60,2,2), color=color.green)\n",
    "wall = box(pos=vector(0,-9,0), size=vector(2, 10, 2), color=color.red)\n",
    "tank1 = box(pos=vector(-20,-13,0), size=vector(2,2,2), color=color.cyan)\n",
    "tank2 = box(pos=vector(20,-13,0), size=vector(2,2,2), color=color.purple)\n",
    "turret1 = cylinder(pos=tank1.pos, axis=vector(2,2,0), radius=0.5, color=tank1.color)\n",
    "turret1.pos.y=turret1.pos.y+tank1.height/2\n",
    "turret2 = cylinder(pos=tank2.pos, axis=vector(-2,2,0), radius=0.5, color=tank2.color)\n",
    "turret2.pos.y=turret2.pos.y+tank2.height/2\n",
    "adj_angle = cylinder(pos=vector(-18,-19,0), axis=vector(1,0,0), radius=1, color=color.magenta)\n",
    "adj_speed = cylinder(pos=vector(5,-19,0), axis=vector(1,0,0), radius=1, color=color.cyan)\n",
    "\n",
    "# Default Variables w/ Motion\n",
    "theta=rad(45)\n",
    "dtheta=rad(1)\n",
    "L=3\n",
    "m=1\n",
    "mspeed=80\n",
    "dspeed=1\n",
    "ang = 46\n",
    "score = 0\n",
    "air_resistance = uniform(0,.07)\n",
    "g=vector(0,-9.8,0)\n",
    "turret1.axis=L*vector(cos(theta),sin(theta),0)\n",
    "Fnet=vector(0,0,0)\n",
    "\n",
    "# Time\n",
    "dt = 0.01\n",
    "t = 0\n",
    "\n",
    "# Create bullet list\n",
    "bullets=[]\n",
    "\n",
    "# Update bar axis\n",
    "adj_angle.axis=(5*theta)*vector(1,0,0)\n",
    "adj_speed.axis=(mspeed/2+0.5)*vector(0.125,0,0)\n",
    "\n",
    "# Labels\n",
    "label(pos=vec(-27,18.5,0), text=\"Angle:\", box=False)\n",
    "label(pos=vec(-23,18.5,0), text=ang, box=False)\n",
    "label(pos=vec(-1.25,18.5,0), text=\"Score:\", box=False)\n",
    "label(pos=vec(1.75,18.5,0), text=score, box=False)\n",
    "label(pos=vec(24,18.5,0), text=\"Power:\", box=False)\n",
    "label(pos=vec(28,18.5,0), text=mspeed, box=False)\n",
    "label(pos=vec(21.5,16,0), text=\"Resistance:\", box=False)\n",
    "label(pos=vec(27.5,16,0), text=\"%.02f\" % (air_resistance), box=False)\n",
    "\n",
    "# Game loop\n",
    "while True:\n",
    "    rate(100)\n",
    "    for b in bullets:\n",
    "        # Store pos and vel of bullet\n",
    "        data=np.array([b.pos.x, b.pos.y, b.pos.z, b.v.x, b.v.y, b.v.z])\n",
    "        # Bullet hit ground\n",
    "        if(b.pos.y<ground.pos.y+ground.height/2):\n",
    "            Fnet=vector(0,0,0)\n",
    "            b.v=vector(0,0,0)\n",
    "            b.make_trail=False\n",
    "            b.clear_trail()\n",
    "            b.visible = False\n",
    "            bullets.pop(0)\n",
    "        # Bullet hit wall\n",
    "        elif collision(b,wall):\n",
    "            Fnet=vector(0,0,0)\n",
    "            b.v=g\n",
    "            b.make_trail=False\n",
    "            b.clear_trail()\n",
    "            b.visible = False\n",
    "            bullets.pop(0)\n",
    "        # Bullet hit tank/target\n",
    "        elif collision(b,tank2):\n",
    "            Fnet=vector(0,0,0)\n",
    "            b.v=vector(0,0,0)\n",
    "            score+=1\n",
    "            label(pos=vec(1.75,18.5,0), text=score, box=False)\n",
    "            b.visible = False\n",
    "            b.make_trail=False\n",
    "            b.clear_trail()\n",
    "            bullets.pop(0)\n",
    "        # Bullet still in the air\n",
    "        else:\n",
    "            Fnet=m*g\n",
    "\n",
    "        # Update pos and vel of the bullet using the RK4 and differential functions.\n",
    "        data = ode.RK4(differential, data, t, dt)\n",
    "        b.pos = vec(data[0], data[1], data[2])\n",
    "        b.v = vec(data[3], data[4], data[5])\n",
    "\n",
    "        # Update time\n",
    "        t=t+dt"
   ]
  },
  {
   "cell_type": "markdown",
   "metadata": {},
   "source": [
    "### Validation"
   ]
  },
  {
   "cell_type": "markdown",
   "metadata": {},
   "source": [
    "In order to validate the program, I tested many scenarios where I could confirm the results.<br>\n",
    "Examples:<br> \n",
    "Shooting with the same angle and power with different air resistances.<br>\n",
    "Shooting the cannon straight up with and w/o air resistance.<br>\n",
    "Modeling my RK4 function extensively in different cases in class.<br>\n",
    "Giving small increments to power angle and air resistance to confirm slightly different results.<br>\n",
    "Shooting the cannon with maximum and minimum power.<br>\n",
    "Etc."
   ]
  },
  {
   "cell_type": "markdown",
   "metadata": {},
   "source": [
    "### Results/Conclusion"
   ]
  },
  {
   "cell_type": "markdown",
   "metadata": {},
   "source": [
    "I have successfully modeled projectile motion w/ air resistance in a fairly realistic manner. <br>\n",
    "I believe, the only non-realistic aspect is the physics with the bullet and the wall.<br>\n",
    "Theoretically, the bullet would bounce off the wall or even go through (it was going fast enough), but clearly, that is not modeled here.\n"
   ]
  },
  {
   "cell_type": "markdown",
   "metadata": {},
   "source": [
    "### References"
   ]
  },
  {
   "cell_type": "markdown",
   "metadata": {},
   "source": [
    "I used my professor’s version of a tank game as a starting place for mine.\n",
    "Listed here: https://www.glowscript.org/#/user/Aaron_Titus/folder/physics-for-video-games/program/GAME-Tank/edit\n",
    "I contributed by adding the RK4 model with air resistance, as well as turning it more into a playable game."
   ]
  }
 ],
 "metadata": {
  "kernelspec": {
   "display_name": "Python 3",
   "language": "python",
   "name": "python3"
  },
  "language_info": {
   "codemirror_mode": {
    "name": "ipython",
    "version": 3
   },
   "file_extension": ".py",
   "mimetype": "text/x-python",
   "name": "python",
   "nbconvert_exporter": "python",
   "pygments_lexer": "ipython3",
   "version": "3.8.5"
  }
 },
 "nbformat": 4,
 "nbformat_minor": 4
}
