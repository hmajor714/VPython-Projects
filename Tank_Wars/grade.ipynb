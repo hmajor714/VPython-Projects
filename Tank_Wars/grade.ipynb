{
 "cells": [
  {
   "cell_type": "markdown",
   "metadata": {},
   "source": [
    "# Unit 02 Project -- ODEs and Curve Fitting\n",
    "\n",
    "The purpose of this \"mini project\" is to demonstrate that you can model realistic projectile motion, including drag and Magnus effect for example, and that you can fit a mathematical function to data and use the curve-fit parameters, as needed, in your model.\n",
    "\n",
    "Your project should:\n",
    "\n",
    "- clearly define the model that you are investigating.\n",
    "- use LaTeX to format mathematical equations in your narrative.\n",
    "- investigate changing parameters or initial conditions in your model.\n",
    "- validate your model by testing parameters or initial conditions for known outcomes.\n",
    "- use functions judiciously so you can rerun your model with different parameters or initial conditions.\n",
    "\n",
    "<div class=\"alert alert-success\">\n",
    "The mini-project should be of sufficient quality to post to github in your portfolio of work that can be shown to a potential employer.\n",
    "</div>\n",
    "\n",
    "\n",
    "## Grading Rubric\n",
    "\n",
    "Category | Poor (0-70%) | Good (70% - 85%) | Excellent (85%-100%)\n",
    ":---: | :--- | :--- | :---\n",
    "**Narrative** | There is very little narrative. Background information is not present or lacks detail. There is no story woven with the code. Mathematical markup is not used. No citations are included. | There is a narrative, but significant parts are missing. The writing does not flow. Sections headings are sparse. Mathematical markup is poor or insufficient. More and better citations are needed. | There is flow, and a clear storyline. Section headings are used to provide an outline. Mathematical markup is used correctly and sufficiently to display mathematics. Citations are sufficient in number and quality.\n",
    "**Code** | Code is missing or is not functional. Nothing is done to demonstrate that the code is operating correctly. Code is difficult to read. Results are missing or seriously incomplete. Visualization is not included. Units are inconsistent or incorrect. Algorithm is implemented incorrectly or the wrong algorithm chosen. There is significant error. | Code is mostly correct and the implementation or algorithm is a good method to use. Visualization is present, but titles and axes labels need improvement or visualization can be improved. Code is understandable and somewhat commented. Units are mostly consistent and correct.| The code runs flawlessly and is well-organized. The code is easy to read and understand. Units are indicated, consistent, and correct. Visualization is excellent. Techniques and algorithms are well-chosen and correctly implemented. Results are clear and understandable.\n",
    "**Difficulty** | The difficulty level is far beneath what one is capable of | The difficulty level is beneath what one is capable of. | The difficulty is well-matched to one's ablity.\n",
    "\n",
    "<div class=\"alert alert-success\">\n",
    "Your project should be in a separate notebook in this repository. You may write VPython programs in a separate `.py` file if this is more effective than including it in the notebook.\n",
    "</div>"
   ]
  },
  {
   "cell_type": "markdown",
   "metadata": {},
   "source": [
    "## Grade\n",
    "\n",
    "### Narrative = 65%\n",
    "\n",
    "I'm looking for the following things in the narrative:\n",
    "\n",
    "1. Purpose/Abstract\n",
    "1. Theoretical Model\n",
    "1. Code\n",
    "1. Validation\n",
    "1. Results/Conclusion\n",
    "1. References\n",
    "\n",
    "I think you are confusing a \"model\" and an \"integrator\" (or \"integration method\"). RK4 is a method of integrating an ODE. The \"model\" is the set of assumptions and equations that describe your system. The model description should define the system, assumptions, initial conditions, and the physics (forces and ODEs that are being solved).\n",
    "\n",
    "There are many errors in the narrative. For example:\n",
    "\n",
    "- You are modeling the motion of a sphere, not a cylinder.\n",
    "- $g=9.8$ N/kg or $9.8\\ \\mathrm{m/s^2}$, not m/s, and I don't know what \"natural gravity\" means. It's not a term I'm familiar with.\n",
    "- Instead of \"Air resistance doesn't affect in a model in the Z-direction,\" you should say that the model is for two-dimensional motion only, with no forces acting in the z-direction.\n",
    "\n",
    "Validation should clearly describe the results of your investigation.\n",
    "\n",
    "\n",
    "### Code = 75%\n",
    "\n",
    "You did accomplish your purpose.\n",
    "\n",
    "VPython programs with keyboard events do not work in the notebook. For example, when I typed \"a\" to change the intial speed of the projectile, Jupyter detected the keyboard event and inserted a new cell above the cell I was running. I had to copy and paste your code to a separate .py file and run it from the command line.\n",
    "\n",
    "In this case, do not use the notebook for the code. Put it into a separate file and then describe and reference the code in the notebook.\n",
    "\n",
    "### Difficulty = 80%\n",
    "\n",
    "There wasn't much complexity nor additions to the original tank program.\n",
    "\n",
    "\n",
    "### Total = 73%\n",
    "\n",
    "Here are the weights used in the weighted average.\n",
    "\n",
    "| | Narrative | Code | Difficulty |\n",
    "| --- | --- | --- | --- |\n",
    "| weights | 30 | 50 | 20 |\n"
   ]
  },
  {
   "cell_type": "code",
   "execution_count": null,
   "metadata": {},
   "outputs": [],
   "source": []
  }
 ],
 "metadata": {
  "kernelspec": {
   "display_name": "Python 3",
   "language": "python",
   "name": "python3"
  },
  "language_info": {
   "codemirror_mode": {
    "name": "ipython",
    "version": 3
   },
   "file_extension": ".py",
   "mimetype": "text/x-python",
   "name": "python",
   "nbconvert_exporter": "python",
   "pygments_lexer": "ipython3",
   "version": "3.8.5"
  }
 },
 "nbformat": 4,
 "nbformat_minor": 4
}
